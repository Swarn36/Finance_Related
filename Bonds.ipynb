{
  "nbformat": 4,
  "nbformat_minor": 0,
  "metadata": {
    "colab": {
      "provenance": [],
      "authorship_tag": "ABX9TyOf6yf07yct47sa93iF+K9V",
      "include_colab_link": true
    },
    "kernelspec": {
      "name": "python3",
      "display_name": "Python 3"
    },
    "language_info": {
      "name": "python"
    }
  },
  "cells": [
    {
      "cell_type": "markdown",
      "metadata": {
        "id": "view-in-github",
        "colab_type": "text"
      },
      "source": [
        "<a href=\"https://colab.research.google.com/github/Swarn36/Finance_Related/blob/main/Bonds.ipynb\" target=\"_parent\"><img src=\"https://colab.research.google.com/assets/colab-badge.svg\" alt=\"Open In Colab\"/></a>"
      ]
    },
    {
      "cell_type": "code",
      "execution_count": 1,
      "metadata": {
        "colab": {
          "base_uri": "https://localhost:8080/"
        },
        "id": "ZNu2J0XOsKyK",
        "outputId": "a86d2804-f965-424c-c214-f4d17afbc103"
      },
      "outputs": [
        {
          "output_type": "stream",
          "name": "stdout",
          "text": [
            "Bond price of the Zero coupon bonds: $924.556\n"
          ]
        }
      ],
      "source": [
        "class ZeroCouponBonds:\n",
        "\n",
        "  def __init__(self, principal, interest_rate, maturity):\n",
        "    self.principal= principal\n",
        "    self.interest_rate = interest_rate/100\n",
        "    self.maturity = maturity\n",
        "\n",
        "  def present_value(self, x, n):\n",
        "    return x/(1+self.interest_rate)**n\n",
        "\n",
        "  def bond_price(self):\n",
        "    return self.present_value(self.principal, self.maturity)\n",
        "\n",
        "\n",
        "if __name__ == '__main__':\n",
        "\n",
        "  bond_price=ZeroCouponBonds(1000, 4, 2)\n",
        "  print(f'Bond price of the Zero coupon bonds: ${round(bond_price.bond_price(), 3)}')"
      ]
    },
    {
      "cell_type": "code",
      "source": [
        "class CouponBonds:\n",
        "\n",
        "  def __init__(self, principal, rate, interest_rate, maturity):\n",
        "    self.principal= principal\n",
        "    self.rate = rate/100\n",
        "    self.interest_rate = interest_rate/100\n",
        "    self.maturity = maturity\n",
        "\n",
        "  def present_value(self, x, n):\n",
        "    return x/(1+self.interest_rate)**n\n",
        "\n",
        "  def coupon_price(self):\n",
        "    price = 0\n",
        "\n",
        "    for time in range(1, self.maturity+1):\n",
        "      price += self.present_value(self.principal*self.rate, self.maturity)\n",
        "\n",
        "    return price + self.present_value(self.principal, self.maturity)\n",
        "\n",
        "\n",
        "if __name__ == '__main__':\n",
        "  coupon = CouponBonds(1000, 10, 4, 3)\n",
        "  print(f'Coupon bond price with a coupon rate of 10%: ${round(coupon.coupon_price(), 3)}')"
      ],
      "metadata": {
        "colab": {
          "base_uri": "https://localhost:8080/"
        },
        "id": "qPV7xIOPsWLg",
        "outputId": "4546feb3-1c1d-49a2-9d43-b97573813083"
      },
      "execution_count": 2,
      "outputs": [
        {
          "output_type": "stream",
          "name": "stdout",
          "text": [
            "Coupon bond price with a coupon rate of 10%: $1155.695\n"
          ]
        }
      ]
    }
  ]
}
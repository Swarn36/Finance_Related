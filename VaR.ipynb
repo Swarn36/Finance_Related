{
  "nbformat": 4,
  "nbformat_minor": 0,
  "metadata": {
    "colab": {
      "provenance": [],
      "authorship_tag": "ABX9TyONGw8PvAHub2rr21EP5DgU",
      "include_colab_link": true
    },
    "kernelspec": {
      "name": "python3",
      "display_name": "Python 3"
    },
    "language_info": {
      "name": "python"
    }
  },
  "cells": [
    {
      "cell_type": "markdown",
      "metadata": {
        "id": "view-in-github",
        "colab_type": "text"
      },
      "source": [
        "<a href=\"https://colab.research.google.com/github/Swarn36/Finance_Related/blob/main/VaR.ipynb\" target=\"_parent\"><img src=\"https://colab.research.google.com/assets/colab-badge.svg\" alt=\"Open In Colab\"/></a>"
      ]
    },
    {
      "cell_type": "markdown",
      "source": [
        "#VaR (Value at Risk)\n",
        "\n",
        "How much money we can loose"
      ],
      "metadata": {
        "id": "_m2tLBmgvD9B"
      }
    },
    {
      "cell_type": "code",
      "execution_count": 1,
      "metadata": {
        "colab": {
          "base_uri": "https://localhost:8080/"
        },
        "id": "k30cqO_hu9Dk",
        "outputId": "03a21ebe-cf45-4666-f2bb-2f8743ff9e81"
      },
      "outputs": [
        {
          "output_type": "stream",
          "name": "stdout",
          "text": [
            "\r[*********************100%***********************]  1 of 1 completed\n",
            "                    C   returns\n",
            "Date                           \n",
            "2014-01-03  42.913368  0.021388\n",
            "2014-01-06  43.242855  0.007649\n",
            "2014-01-07  43.540180  0.006852\n",
            "2014-01-08  44.046463  0.011561\n",
            "2014-01-09  44.359890  0.007091\n",
            "...               ...       ...\n",
            "2017-12-22  62.349060 -0.004362\n",
            "2017-12-26  61.762630 -0.009450\n",
            "2017-12-27  61.853497  0.001470\n",
            "2017-12-28  62.010422  0.002534\n",
            "2017-12-29  61.457050 -0.008964\n",
            "\n",
            "[1006 rows x 2 columns]\n",
            "None\n",
            "Value at risk is: $25396.72\n",
            "Value at risk after somedays: $82898.02\n"
          ]
        }
      ],
      "source": [
        "import numpy as np\n",
        "from scipy.stats import norm\n",
        "import pandas as pd\n",
        "import yfinance as yf\n",
        "import datetime\n",
        "\n",
        "class VaRSys:\n",
        "\n",
        "  def __init__(self, stock, start_date, end_date):\n",
        "    self.data = None\n",
        "    self.stock = stock\n",
        "    self.start = start_date\n",
        "    self.end = end_date\n",
        "\n",
        "  def download_data(self):\n",
        "    data = {}\n",
        "\n",
        "    ticker = yf.download(self.stock, self.start, self.end)\n",
        "    data[self.stock] = ticker['Adj Close']\n",
        "\n",
        "    return pd.DataFrame(data)\n",
        "\n",
        "  def initialize(self):\n",
        "    stock_data = self.download_data()\n",
        "    stock_data['returns'] = np.log(stock_data[self.stock[0]] / stock_data[self.stock[0]].shift(1))\n",
        "\n",
        "    self.stock_data = stock_data[1:]\n",
        "    print(self.stock_data)\n",
        "\n",
        "  def calculate_var(self, position, c): #c is the confidence level\n",
        "    mu = np.mean(self.stock_data['returns'])\n",
        "    sigma = np.std(self.stock_data['returns'])\n",
        "    var = position * (mu - sigma*norm.ppf(1-c))\n",
        "    return var\n",
        "\n",
        "  def calculate_var_n(self, position, c, n):\n",
        "    mu = np.mean(self.stock_data['returns'])\n",
        "    sigma = np.std(self.stock_data['returns'])\n",
        "    var = position * (mu*n - sigma*np.sqrt(n)*norm.ppf(1-c))\n",
        "    return var\n",
        "\n",
        "\n",
        "if __name__ == '__main__':\n",
        "  start = datetime.datetime(2014, 1, 1)\n",
        "  end = datetime.datetime(2018, 1, 1)\n",
        "  var = VaRSys('C', start, end)\n",
        "  print(var.initialize())\n",
        "  print(\"Value at risk is: $%.2f\" %var.calculate_var(1e6, 0.95))\n",
        "  print(\"Value at risk after somedays: $%.2f\" %var.calculate_var_n(1e6, 0.95, 10))"
      ]
    },
    {
      "cell_type": "markdown",
      "source": [
        "##Var with Monte Carlo Simulations"
      ],
      "metadata": {
        "id": "n96CzKGKvMYH"
      }
    },
    {
      "cell_type": "code",
      "source": [
        "import numpy as np\n",
        "from scipy.stats import norm\n",
        "import pandas as pd\n",
        "import yfinance as yf\n",
        "import datetime\n",
        "\n",
        "def download_data(stock, start_date, end_date):\n",
        "  stock_data = {}\n",
        "\n",
        "  ticker = yf.download(stock, start=start_date, end=end_date)\n",
        "  stock_data['Adj_Close'] = ticker['Adj Close']\n",
        "\n",
        "  return pd.DataFrame(stock_data)\n",
        "\n",
        "class VarMonteCarlo:\n",
        "\n",
        "  def __init__(self, S, mu, sigma, c, n, iterations):\n",
        "    self.S = S\n",
        "    self.mu = mu\n",
        "    self.sigma = sigma\n",
        "    self.c = c\n",
        "    self.n = n\n",
        "    self.iter = iterations\n",
        "\n",
        "  def simulation(self):\n",
        "    rand = np.random.normal(0, 1,[1, self.iter])\n",
        "    stock_price = self.S * np.exp((self.mu - 0.5*self.sigma**2)*self.n + self.sigma*np.sqrt(self.n)*rand)\n",
        "\n",
        "    stock_price = np.sort(stock_price)\n",
        "\n",
        "    percentile = np.percentile(stock_price, (1- self.c)*100)\n",
        "    print(stock_price)\n",
        "    return self.S - percentile\n",
        "\n",
        "\n",
        "if __name__ == '__main__':\n",
        "\n",
        "  S = 1e6\n",
        "  c = 0.95\n",
        "  n = 1\n",
        "  iterations = 100000\n",
        "\n",
        "  start = datetime.datetime(2014, 1, 1)\n",
        "  end = datetime.datetime(2018, 1, 1)\n",
        "  citi = download_data('C', start, end)\n",
        "\n",
        "  citi['returns'] = citi['Adj_Close'].pct_change()\n",
        "\n",
        "  mu = np.mean(citi['returns'])\n",
        "  sigma = np.std(citi['returns'])\n",
        "\n",
        "  model = VarMonteCarlo(S, mu, sigma, c, n, iterations)\n",
        "  print(f'Value at risk in monte carlo simulations: ${str(round(model.simulation(),3))}')"
      ],
      "metadata": {
        "colab": {
          "base_uri": "https://localhost:8080/"
        },
        "id": "sM3xZhtnvM4Y",
        "outputId": "4533a8fa-2feb-4144-c84d-5995fbc99d96"
      },
      "execution_count": 2,
      "outputs": [
        {
          "output_type": "stream",
          "name": "stdout",
          "text": [
            "\r[*********************100%***********************]  1 of 1 completed\n",
            "[[ 932898.42051741  933970.69235699  934400.85054066 ... 1061859.99361772\n",
            "  1062931.18919645 1076248.16702476]]\n",
            "Value at risk in monte carlo simulations: $24231.865\n"
          ]
        }
      ]
    }
  ]
}